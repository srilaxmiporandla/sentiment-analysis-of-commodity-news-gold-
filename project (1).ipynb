{
  "nbformat": 4,
  "nbformat_minor": 0,
  "metadata": {
    "colab": {
      "provenance": []
    },
    "kernelspec": {
      "name": "python3",
      "display_name": "Python 3"
    },
    "language_info": {
      "name": "python"
    }
  },
  "cells": [
    {
      "cell_type": "code",
      "execution_count": 8,
      "metadata": {
        "id": "_Te19Tg6Pr1A"
      },
      "outputs": [],
      "source": [
        "import numpy as np\n",
        "import pandas as pd\n",
        "import matplotlib.pyplot as plt\n",
        "import seaborn as sns\n",
        "import re\n",
        "import string\n",
        "from sklearn.model_selection import train_test_split\n",
        "from sklearn.feature_extraction.text import CountVectorizer\n",
        "from sklearn.linear_model import LogisticRegression\n",
        "from sklearn.metrics import confusion_matrix\n",
        "from sklearn.metrics import accuracy_score\n",
        "from sklearn.feature_extraction.text import TfidfVectorizer\n",
        "from sklearn.svm import SVC\n",
        "import pickle\n",
        "\n"
      ]
    },
    {
      "cell_type": "code",
      "source": [
        "df=pd.read_csv('/content/gold.csv')"
      ],
      "metadata": {
        "id": "ifMJi3eHP1CC"
      },
      "execution_count": 26,
      "outputs": []
    },
    {
      "cell_type": "code",
      "source": [
        "\n"
      ],
      "metadata": {
        "id": "ubvPAXmumk_J"
      },
      "execution_count": 5,
      "outputs": []
    },
    {
      "cell_type": "code",
      "source": [
        "df.shape"
      ],
      "metadata": {
        "colab": {
          "base_uri": "https://localhost:8080/"
        },
        "id": "3k2JQHRUmnvX",
        "outputId": "e0543ba7-ef15-4834-9e5e-0e3cc1237b86"
      },
      "execution_count": null,
      "outputs": [
        {
          "output_type": "execute_result",
          "data": {
            "text/plain": [
              "(10570, 10)"
            ]
          },
          "metadata": {},
          "execution_count": 4
        }
      ]
    },
    {
      "cell_type": "code",
      "source": [
        "df.info()"
      ],
      "metadata": {
        "colab": {
          "base_uri": "https://localhost:8080/"
        },
        "id": "-buietNEm7DC",
        "outputId": "f84be66e-2469-4fc1-f1a1-21ff13d372b3"
      },
      "execution_count": 11,
      "outputs": [
        {
          "output_type": "stream",
          "name": "stdout",
          "text": [
            "<class 'pandas.core.frame.DataFrame'>\n",
            "RangeIndex: 10570 entries, 0 to 10569\n",
            "Data columns (total 10 columns):\n",
            " #   Column                    Non-Null Count  Dtype \n",
            "---  ------                    --------------  ----- \n",
            " 0   Dates                     10570 non-null  object\n",
            " 1   URL                       10570 non-null  object\n",
            " 2   News                      10570 non-null  object\n",
            " 3   Price Direction Up        10570 non-null  int64 \n",
            " 4   Price Direction Constant  10570 non-null  int64 \n",
            " 5   Price Direction Down      10570 non-null  int64 \n",
            " 6   Asset Comparision         10570 non-null  int64 \n",
            " 7   Past Information          10570 non-null  int64 \n",
            " 8   Future Information        10570 non-null  int64 \n",
            " 9   Price Sentiment           10570 non-null  object\n",
            "dtypes: int64(6), object(4)\n",
            "memory usage: 825.9+ KB\n"
          ]
        }
      ]
    },
    {
      "cell_type": "code",
      "source": [
        "df.isnull().sum()"
      ],
      "metadata": {
        "colab": {
          "base_uri": "https://localhost:8080/"
        },
        "id": "Btp4RUTenEDE",
        "outputId": "1fcaa1d3-c06a-45e4-f913-d026f869fb79"
      },
      "execution_count": 12,
      "outputs": [
        {
          "output_type": "execute_result",
          "data": {
            "text/plain": [
              "Dates                       0\n",
              "URL                         0\n",
              "News                        0\n",
              "Price Direction Up          0\n",
              "Price Direction Constant    0\n",
              "Price Direction Down        0\n",
              "Asset Comparision           0\n",
              "Past Information            0\n",
              "Future Information          0\n",
              "Price Sentiment             0\n",
              "dtype: int64"
            ]
          },
          "metadata": {},
          "execution_count": 12
        }
      ]
    },
    {
      "cell_type": "code",
      "source": [
        "df['Price Sentiment'].value_counts()"
      ],
      "metadata": {
        "colab": {
          "base_uri": "https://localhost:8080/"
        },
        "id": "1Hx6IKLcnakw",
        "outputId": "4e1141ee-c158-464e-acb9-083c8262ae9d"
      },
      "execution_count": 13,
      "outputs": [
        {
          "output_type": "execute_result",
          "data": {
            "text/plain": [
              "Price Sentiment\n",
              "positive    4412\n",
              "negative    3814\n",
              "none        1968\n",
              "neutral      376\n",
              "Name: count, dtype: int64"
            ]
          },
          "metadata": {},
          "execution_count": 13
        }
      ]
    },
    {
      "cell_type": "code",
      "source": [
        "df['Price Sentiment'].unique()"
      ],
      "metadata": {
        "colab": {
          "base_uri": "https://localhost:8080/"
        },
        "id": "UcNHgzZj4KzA",
        "outputId": "00ec58f0-1a23-4d54-9322-913bf31fca49"
      },
      "execution_count": 14,
      "outputs": [
        {
          "output_type": "execute_result",
          "data": {
            "text/plain": [
              "array(['negative', 'positive', 'none', 'neutral'], dtype=object)"
            ]
          },
          "metadata": {},
          "execution_count": 14
        }
      ]
    },
    {
      "cell_type": "code",
      "source": [
        "df['Price Sentiment']=df['Price Sentiment'].map({'negative':1,'positive':2,'neutral':3,'none':4})"
      ],
      "metadata": {
        "id": "FQFbZyz14YgU"
      },
      "execution_count": null,
      "outputs": []
    },
    {
      "cell_type": "code",
      "source": [
        "plt.figure(figsize=(10,5))\n",
        "plt.xlim(0,4000)\n",
        "plt.ylim(0,4000)\n",
        "sns.countplot(df['Price Sentiment'])\n",
        "df['Price Sentiment'].value_counts()"
      ],
      "metadata": {
        "colab": {
          "base_uri": "https://localhost:8080/",
          "height": 569
        },
        "id": "2JBvXmyj4zxQ",
        "outputId": "9cfd64ad-3c7c-4cdd-d551-ac6aa1f3ac41"
      },
      "execution_count": 15,
      "outputs": [
        {
          "output_type": "execute_result",
          "data": {
            "text/plain": [
              "Price Sentiment\n",
              "positive    4412\n",
              "negative    3814\n",
              "none        1968\n",
              "neutral      376\n",
              "Name: count, dtype: int64"
            ]
          },
          "metadata": {},
          "execution_count": 15
        },
        {
          "output_type": "display_data",
          "data": {
            "text/plain": [
              "<Figure size 1000x500 with 1 Axes>"
            ],
            "image/png": "[encoded data removed]"
          },
          "metadata": {}
        }
      ]
    },
    {
      "cell_type": "code",
      "source": [
        "df.describe(include='all')"
      ],
      "metadata": {
        "colab": {
          "base_uri": "https://localhost:8080/",
          "height": 446
        },
        "id": "amdd-1uz5XX8",
        "outputId": "f5bbb370-1fd0-4880-9447-316a8c3dcca0"
      },
      "execution_count": 16,
      "outputs": [
        {
          "output_type": "execute_result",
          "data": {
            "text/plain": [
              "             Dates                                                URL  \\\n",
              "count        10570                                              10570   \n",
              "unique        3761                                              10570   \n",
              "top     30-08-2017  http://www.marketwatch.com/story/april-gold-do...   \n",
              "freq            18                                                  1   \n",
              "mean           NaN                                                NaN   \n",
              "std            NaN                                                NaN   \n",
              "min            NaN                                                NaN   \n",
              "25%            NaN                                                NaN   \n",
              "50%            NaN                                                NaN   \n",
              "75%            NaN                                                NaN   \n",
              "max            NaN                                                NaN   \n",
              "\n",
              "                                                     News  Price Direction Up  \\\n",
              "count                                               10570        10570.000000   \n",
              "unique                                              10570                 NaN   \n",
              "top     april gold down 20 cents to settle at $1,116.1...                 NaN   \n",
              "freq                                                    1                 NaN   \n",
              "mean                                                  NaN            0.417408   \n",
              "std                                                   NaN            0.493155   \n",
              "min                                                   NaN            0.000000   \n",
              "25%                                                   NaN            0.000000   \n",
              "50%                                                   NaN            0.000000   \n",
              "75%                                                   NaN            1.000000   \n",
              "max                                                   NaN            1.000000   \n",
              "\n",
              "        Price Direction Constant  Price Direction Down  Asset Comparision  \\\n",
              "count               10570.000000          10570.000000       10570.000000   \n",
              "unique                       NaN                   NaN                NaN   \n",
              "top                          NaN                   NaN                NaN   \n",
              "freq                         NaN                   NaN                NaN   \n",
              "mean                    0.042006              0.370104           0.189309   \n",
              "std                     0.200612              0.482855           0.391773   \n",
              "min                     0.000000              0.000000           0.000000   \n",
              "25%                     0.000000              0.000000           0.000000   \n",
              "50%                     0.000000              0.000000           0.000000   \n",
              "75%                     0.000000              1.000000           0.000000   \n",
              "max                     1.000000              1.000000           1.000000   \n",
              "\n",
              "        Past Information  Future Information Price Sentiment  \n",
              "count       10570.000000         10570.00000           10570  \n",
              "unique               NaN                 NaN               4  \n",
              "top                  NaN                 NaN        positive  \n",
              "freq                 NaN                 NaN            4412  \n",
              "mean            0.969915             0.03018             NaN  \n",
              "std             0.170830             0.17109             NaN  \n",
              "min             0.000000             0.00000             NaN  \n",
              "25%             1.000000             0.00000             NaN  \n",
              "50%             1.000000             0.00000             NaN  \n",
              "75%             1.000000             0.00000             NaN  \n",
              "max             1.000000             1.00000             NaN  "
            ],
            "text/html": [
              "\n",
              "  <div id=\"df-c4807e30-9b7e-432c-9061-a903419b7eaf\" class=\"colab-df-container\">\n",
              "    <div>\n",
              "<style scoped>\n",
              "    .dataframe tbody tr th:only-of-type {\n",
              "        vertical-align: middle;\n",
              "    }\n",
              "\n",
              "    .dataframe tbody tr th {\n",
              "        vertical-align: top;\n",
              "    }\n",
              "\n",
              "    .dataframe thead th {\n",
              "        text-align: right;\n",
              "    }\n",
              "</style>\n",
              "<table border=\"1\" class=\"dataframe\">\n",
              "  <thead>\n",
              "    <tr style=\"text-align: right;\">\n",
              "      <th></th>\n",
              "      <th>Dates</th>\n",
              "      <th>URL</th>\n",
              "      <th>News</th>\n",
              "      <th>Price Direction Up</th>\n",
              "      <th>Price Direction Constant</th>\n",
              "      <th>Price Direction Down</th>\n",
              "      <th>Asset Comparision</th>\n",
              "      <th>Past Information</th>\n",
              "      <th>Future Information</th>\n",
              "      <th>Price Sentiment</th>\n",
              "    </tr>\n",
              "  </thead>\n",
              "  <tbody>\n",
              "    <tr>\n",
              "      <th>count</th>\n",
              "      <td>10570</td>\n",
              "      <td>10570</td>\n",
              "      <td>10570</td>\n",
              "      <td>10570.000000</td>\n",
              "      <td>10570.000000</td>\n",
              "      <td>10570.000000</td>\n",
              "      <td>10570.000000</td>\n",
              "      <td>10570.000000</td>\n",
              "      <td>10570.00000</td>\n",
              "      <td>10570</td>\n",
              "    </tr>\n",
              "    <tr>\n",
              "      <th>unique</th>\n",
              "      <td>3761</td>\n",
              "      <td>10570</td>\n",
              "      <td>10570</td>\n",
              "      <td>NaN</td>\n",
              "      <td>NaN</td>\n",
              "      <td>NaN</td>\n",
              "      <td>NaN</td>\n",
              "      <td>NaN</td>\n",
              "      <td>NaN</td>\n",
              "      <td>4</td>\n",
              "    </tr>\n",
              "    <tr>\n",
              "      <th>top</th>\n",
              "      <td>30-08-2017</td>\n",
              "      <td>http://www.marketwatch.com/story/april-gold-do...</td>\n",
              "      <td>april gold down 20 cents to settle at $1,116.1...</td>\n",
              "      <td>NaN</td>\n",
              "      <td>NaN</td>\n",
              "      <td>NaN</td>\n",
              "      <td>NaN</td>\n",
              "      <td>NaN</td>\n",
              "      <td>NaN</td>\n",
              "      <td>positive</td>\n",
              "    </tr>\n",
              "    <tr>\n",
              "      <th>freq</th>\n",
              "      <td>18</td>\n",
              "      <td>1</td>\n",
              "      <td>1</td>\n",
              "      <td>NaN</td>\n",
              "      <td>NaN</td>\n",
              "      <td>NaN</td>\n",
              "      <td>NaN</td>\n",
              "      <td>NaN</td>\n",
              "      <td>NaN</td>\n",
              "      <td>4412</td>\n",
              "    </tr>\n",
              "    <tr>\n",
              "      <th>mean</th>\n",
              "      <td>NaN</td>\n",
              "      <td>NaN</td>\n",
              "      <td>NaN</td>\n",
              "      <td>0.417408</td>\n",
              "      <td>0.042006</td>\n",
              "      <td>0.370104</td>\n",
              "      <td>0.189309</td>\n",
              "      <td>0.969915</td>\n",
              "      <td>0.03018</td>\n",
              "      <td>NaN</td>\n",
              "    </tr>\n",
              "    <tr>\n",
              "      <th>std</th>\n",
              "      <td>NaN</td>\n",
              "      <td>NaN</td>\n",
              "      <td>NaN</td>\n",
              "      <td>0.493155</td>\n",
              "      <td>0.200612</td>\n",
              "      <td>0.482855</td>\n",
              "      <td>0.391773</td>\n",
              "      <td>0.170830</td>\n",
              "      <td>0.17109</td>\n",
              "      <td>NaN</td>\n",
              "    </tr>\n",
              "    <tr>\n",
              "      <th>min</th>\n",
              "      <td>NaN</td>\n",
              "      <td>NaN</td>\n",
              "      <td>NaN</td>\n",
              "      <td>0.000000</td>\n",
              "      <td>0.000000</td>\n",
              "      <td>0.000000</td>\n",
              "      <td>0.000000</td>\n",
              "      <td>0.000000</td>\n",
              "      <td>0.00000</td>\n",
              "      <td>NaN</td>\n",
              "    </tr>\n",
              "    <tr>\n",
              "      <th>25%</th>\n",
              "      <td>NaN</td>\n",
              "      <td>NaN</td>\n",
              "      <td>NaN</td>\n",
              "      <td>0.000000</td>\n",
              "      <td>0.000000</td>\n",
              "      <td>0.000000</td>\n",
              "      <td>0.000000</td>\n",
              "      <td>1.000000</td>\n",
              "      <td>0.00000</td>\n",
              "      <td>NaN</td>\n",
              "    </tr>\n",
              "    <tr>\n",
              "      <th>50%</th>\n",
              "      <td>NaN</td>\n",
              "      <td>NaN</td>\n",
              "      <td>NaN</td>\n",
              "      <td>0.000000</td>\n",
              "      <td>0.000000</td>\n",
              "      <td>0.000000</td>\n",
              "      <td>0.000000</td>\n",
              "      <td>1.000000</td>\n",
              "      <td>0.00000</td>\n",
              "      <td>NaN</td>\n",
              "    </tr>\n",
              "    <tr>\n",
              "      <th>75%</th>\n",
              "      <td>NaN</td>\n",
              "      <td>NaN</td>\n",
              "      <td>NaN</td>\n",
              "      <td>1.000000</td>\n",
              "      <td>0.000000</td>\n",
              "      <td>1.000000</td>\n",
              "      <td>0.000000</td>\n",
              "      <td>1.000000</td>\n",
              "      <td>0.00000</td>\n",
              "      <td>NaN</td>\n",
              "    </tr>\n",
              "    <tr>\n",
              "      <th>max</th>\n",
              "      <td>NaN</td>\n",
              "      <td>NaN</td>\n",
              "      <td>NaN</td>\n",
              "      <td>1.000000</td>\n",
              "      <td>1.000000</td>\n",
              "      <td>1.000000</td>\n",
              "      <td>1.000000</td>\n",
              "      <td>1.000000</td>\n",
              "      <td>1.00000</td>\n",
              "      <td>NaN</td>\n",
              "    </tr>\n",
              "  </tbody>\n",
              "</table>\n",
              "</div>\n",
              "    <div class=\"colab-df-buttons\">\n",
              "\n",
              "  <div class=\"colab-df-container\">\n",
              "    <button class=\"colab-df-convert\" onclick=\"convertToInteractive('df-c4807e30-9b7e-432c-9061-a903419b7eaf')\"\n",
              "            title=\"Convert this dataframe to an interactive table.\"\n",
              "            style=\"display:none;\">\n",
              "\n",
              "  <svg xmlns=\"http://www.w3.org/2000/svg\" height=\"24px\" viewBox=\"0 -960 960 960\">\n",
              "    <path d=\"M120-120v-720h720v720H120Zm60-500h600v-160H180v160Zm220 220h160v-160H400v160Zm0 220h160v-160H400v160ZM180-400h160v-160H180v160Zm440 0h160v-160H620v160ZM180-180h160v-160H180v160Zm440 0h160v-160H620v160Z\"/>\n",
              "  </svg>\n",
              "    </button>\n",
              "\n",
              "  <style>\n",
              "    .colab-df-container {\n",
              "      display:flex;\n",
              "      gap: 12px;\n",
              "    }\n",
              "\n",
              "    .colab-df-convert {\n",
              "      background-color: #E8F0FE;\n",
              "      border: none;\n",
              "      border-radius: 50%;\n",
              "      cursor: pointer;\n",
              "      display: none;\n",
              "      fill: #1967D2;\n",
              "      height: 32px;\n",
              "      padding: 0 0 0 0;\n",
              "      width: 32px;\n",
              "    }\n",
              "\n",
              "    .colab-df-convert:hover {\n",
              "      background-color: #E2EBFA;\n",
              "      box-shadow: 0px 1px 2px rgba(60, 64, 67, 0.3), 0px 1px 3px 1px rgba(60, 64, 67, 0.15);\n",
              "      fill: #174EA6;\n",
              "    }\n",
              "\n",
              "    .colab-df-buttons div {\n",
              "      margin-bottom: 4px;\n",
              "    }\n",
              "\n",
              "    [theme=dark] .colab-df-convert {\n",
              "      background-color: #3B4455;\n",
              "      fill: #D2E3FC;\n",
              "    }\n",
              "\n",
              "    [theme=dark] .colab-df-convert:hover {\n",
              "      background-color: #434B5C;\n",
              "      box-shadow: 0px 1px 3px 1px rgba(0, 0, 0, 0.15);\n",
              "      filter: drop-shadow(0px 1px 2px rgba(0, 0, 0, 0.3));\n",
              "      fill: #FFFFFF;\n",
              "    }\n",
              "  </style>\n",
              "\n",
              "    <script>\n",
              "      const buttonEl =\n",
              "        document.querySelector('#df-c4807e30-9b7e-432c-9061-a903419b7eaf button.colab-df-convert');\n",
              "      buttonEl.style.display =\n",
              "        google.colab.kernel.accessAllowed ? 'block' : 'none';\n",
              "\n",
              "      async function convertToInteractive(key) {\n",
              "        const element = document.querySelector('#df-c4807e30-9b7e-432c-9061-a903419b7eaf');\n",
              "        const dataTable =\n",
              "          await google.colab.kernel.invokeFunction('convertToInteractive',\n",
              "                                                    [key], {});\n",
              "        if (!dataTable) return;\n",
              "\n",
              "        const docLinkHtml = 'Like what you see? Visit the ' +\n",
              "          '<a target=\"_blank\" href=https://colab.research.google.com/notebooks/data_table.ipynb>data table notebook</a>'\n",
              "          + ' to learn more about interactive tables.';\n",
              "        element.innerHTML = '';\n",
              "        dataTable['output_type'] = 'display_data';\n",
              "        await google.colab.output.renderOutput(dataTable, element);\n",
              "        const docLink = document.createElement('div');\n",
              "        docLink.innerHTML = docLinkHtml;\n",
              "        element.appendChild(docLink);\n",
              "      }\n",
              "    </script>\n",
              "  </div>\n",
              "\n",
              "\n",
              "<div id=\"df-a946ca03-273f-456f-a4f2-b71fa47e4a33\">\n",
              "  <button class=\"colab-df-quickchart\" onclick=\"quickchart('df-a946ca03-273f-456f-a4f2-b71fa47e4a33')\"\n",
              "            title=\"Suggest charts\"\n",
              "            style=\"display:none;\">\n",
              "\n",
              "<svg xmlns=\"http://www.w3.org/2000/svg\" height=\"24px\"viewBox=\"0 0 24 24\"\n",
              "     width=\"24px\">\n",
              "    <g>\n",
              "        <path d=\"M19 3H5c-1.1 0-2 .9-2 2v14c0 1.1.9 2 2 2h14c1.1 0 2-.9 2-2V5c0-1.1-.9-2-2-2zM9 17H7v-7h2v7zm4 0h-2V7h2v10zm4 0h-2v-4h2v4z\"/>\n",
              "    </g>\n",
              "</svg>\n",
              "  </button>\n",
              "\n",
              "<style>\n",
              "  .colab-df-quickchart {\n",
              "      --bg-color: #E8F0FE;\n",
              "      --fill-color: #1967D2;\n",
              "      --hover-bg-color: #E2EBFA;\n",
              "      --hover-fill-color: #174EA6;\n",
              "      --disabled-fill-color: #AAA;\n",
              "      --disabled-bg-color: #DDD;\n",
              "  }\n",
              "\n",
              "  [theme=dark] .colab-df-quickchart {\n",
              "      --bg-color: #3B4455;\n",
              "      --fill-color: #D2E3FC;\n",
              "      --hover-bg-color: #434B5C;\n",
              "      --hover-fill-color: #FFFFFF;\n",
              "      --disabled-bg-color: #3B4455;\n",
              "      --disabled-fill-color: #666;\n",
              "  }\n",
              "\n",
              "  .colab-df-quickchart {\n",
              "    background-color: var(--bg-color);\n",
              "    border: none;\n",
              "    border-radius: 50%;\n",
              "    cursor: pointer;\n",
              "    display: none;\n",
              "    fill: var(--fill-color);\n",
              "    height: 32px;\n",
              "    padding: 0;\n",
              "    width: 32px;\n",
              "  }\n",
              "\n",
              "  .colab-df-quickchart:hover {\n",
              "    background-color: var(--hover-bg-color);\n",
              "    box-shadow: 0 1px 2px rgba(60, 64, 67, 0.3), 0 1px 3px 1px rgba(60, 64, 67, 0.15);\n",
              "    fill: var(--button-hover-fill-color);\n",
              "  }\n",
              "\n",
              "  .colab-df-quickchart-complete:disabled,\n",
              "  .colab-df-quickchart-complete:disabled:hover {\n",
              "    background-color: var(--disabled-bg-color);\n",
              "    fill: var(--disabled-fill-color);\n",
              "    box-shadow: none;\n",
              "  }\n",
              "\n",
              "  .colab-df-spinner {\n",
              "    border: 2px solid var(--fill-color);\n",
              "    border-color: transparent;\n",
              "    border-bottom-color: var(--fill-color);\n",
              "    animation:\n",
              "      spin 1s steps(1) infinite;\n",
              "  }\n",
              "\n",
              "  @keyframes spin {\n",
              "    0% {\n",
              "      border-color: transparent;\n",
              "      border-bottom-color: var(--fill-color);\n",
              "      border-left-color: var(--fill-color);\n",
              "    }\n",
              "    20% {\n",
              "      border-color: transparent;\n",
              "      border-left-color: var(--fill-color);\n",
              "      border-top-color: var(--fill-color);\n",
              "    }\n",
              "    30% {\n",
              "      border-color: transparent;\n",
              "      border-left-color: var(--fill-color);\n",
              "      border-top-color: var(--fill-color);\n",
              "      border-right-color: var(--fill-color);\n",
              "    }\n",
              "    40% {\n",
              "      border-color: transparent;\n",
              "      border-right-color: var(--fill-color);\n",
              "      border-top-color: var(--fill-color);\n",
              "    }\n",
              "    60% {\n",
              "      border-color: transparent;\n",
              "      border-right-color: var(--fill-color);\n",
              "    }\n",
              "    80% {\n",
              "      border-color: transparent;\n",
              "      border-right-color: var(--fill-color);\n",
              "      border-bottom-color: var(--fill-color);\n",
              "    }\n",
              "    90% {\n",
              "      border-color: transparent;\n",
              "      border-bottom-color: var(--fill-color);\n",
              "    }\n",
              "  }\n",
              "</style>\n",
              "\n",
              "  <script>\n",
              "    async function quickchart(key) {\n",
              "      const quickchartButtonEl =\n",
              "        document.querySelector('#' + key + ' button');\n",
              "      quickchartButtonEl.disabled = true;  // To prevent multiple clicks.\n",
              "      quickchartButtonEl.classList.add('colab-df-spinner');\n",
              "      try {\n",
              "        const charts = await google.colab.kernel.invokeFunction(\n",
              "            'suggestCharts', [key], {});\n",
              "      } catch (error) {\n",
              "        console.error('Error during call to suggestCharts:', error);\n",
              "      }\n",
              "      quickchartButtonEl.classList.remove('colab-df-spinner');\n",
              "      quickchartButtonEl.classList.add('colab-df-quickchart-complete');\n",
              "    }\n",
              "    (() => {\n",
              "      let quickchartButtonEl =\n",
              "        document.querySelector('#df-a946ca03-273f-456f-a4f2-b71fa47e4a33 button');\n",
              "      quickchartButtonEl.style.display =\n",
              "        google.colab.kernel.accessAllowed ? 'block' : 'none';\n",
              "    })();\n",
              "  </script>\n",
              "</div>\n",
              "\n",
              "    </div>\n",
              "  </div>\n"
            ],
            "application/vnd.google.colaboratory.intrinsic+json": {
              "type": "dataframe",
              "summary": "{\n  \"name\": \"df\",\n  \"rows\": 11,\n  \"fields\": [\n    {\n      \"column\": \"Dates\",\n      \"properties\": {\n        \"dtype\": \"date\",\n        \"min\": \"1970-01-01 00:00:00.000000018\",\n        \"max\": \"2017-08-30 00:00:00\",\n        \"num_unique_values\": 4,\n        \"samples\": [\n          3761,\n          \"18\",\n          \"10570\"\n        ],\n        \"semantic_type\": \"\",\n        \"description\": \"\"\n      }\n    },\n    {\n      \"column\": \"URL\",\n      \"properties\": {\n        \"dtype\": \"category\",\n        \"num_unique_values\": 3,\n        \"samples\": [\n          \"10570\",\n          \"http://www.marketwatch.com/story/april-gold-down-20-cents-to-settle-at-111610oz-2016-01-28\",\n          \"1\"\n        ],\n        \"semantic_type\": \"\",\n        \"description\": \"\"\n      }\n    },\n    {\n      \"column\": \"News\",\n      \"properties\": {\n        \"dtype\": \"category\",\n        \"num_unique_values\": 3,\n        \"samples\": [\n          \"10570\",\n          \"april gold down 20 cents to settle at $1,116.10/oz\",\n          \"1\"\n        ],\n        \"semantic_type\": \"\",\n        \"description\": \"\"\n      }\n    },\n    {\n      \"column\": \"Price Direction Up\",\n      \"properties\": {\n        \"dtype\": \"number\",\n        \"std\": 3736.912356044171,\n        \"min\": 0.0,\n        \"max\": 10570.0,\n        \"num_unique_values\": 5,\n        \"samples\": [\n          0.4174077578051088,\n          1.0,\n          0.49315467166868826\n        ],\n        \"semantic_type\": \"\",\n        \"description\": \"\"\n      }\n    },\n    {\n      \"column\": \"Price Direction Constant\",\n      \"properties\": {\n        \"dtype\": \"number\",\n        \"std\": 3736.9965926222153,\n        \"min\": 0.0,\n        \"max\": 10570.0,\n        \"num_unique_values\": 5,\n        \"samples\": [\n          0.042005676442762534,\n          1.0,\n          0.20061158257687853\n        ],\n        \"semantic_type\": \"\",\n        \"description\": \"\"\n      }\n    },\n    {\n      \"column\": \"Price Direction Down\",\n      \"properties\": {\n        \"dtype\": \"number\",\n        \"std\": 3736.9152654475897,\n        \"min\": 0.0,\n        \"max\": 10570.0,\n        \"num_unique_values\": 5,\n        \"samples\": [\n          0.37010406811731317,\n          1.0,\n          0.4828551589308221\n        ],\n        \"semantic_type\": \"\",\n        \"description\": \"\"\n      }\n    },\n    {\n      \"column\": \"Asset Comparision\",\n      \"properties\": {\n        \"dtype\": \"number\",\n        \"std\": 3736.97949777392,\n        \"min\": 0.0,\n        \"max\": 10570.0,\n        \"num_unique_values\": 5,\n        \"samples\": [\n          0.18930936613055818,\n          1.0,\n          0.39177270313273643\n        ],\n        \"semantic_type\": \"\",\n        \"description\": \"\"\n      }\n    },\n    {\n      \"column\": \"Past Information\",\n      \"properties\": {\n        \"dtype\": \"number\",\n        \"std\": 3736.7997145951563,\n        \"min\": 0.0,\n        \"max\": 10570.0,\n        \"num_unique_values\": 5,\n        \"samples\": [\n          0.969914853358562,\n          1.0,\n          0.17082971492228136\n        ],\n        \"semantic_type\": \"\",\n        \"description\": \"\"\n      }\n    },\n    {\n      \"column\": \"Future Information\",\n      \"properties\": {\n        \"dtype\": \"number\",\n        \"std\": 3736.998681048587,\n        \"min\": 0.0,\n        \"max\": 10570.0,\n        \"num_unique_values\": 5,\n        \"samples\": [\n          0.030179754020813625,\n          1.0,\n          0.17108975944641225\n        ],\n        \"semantic_type\": \"\",\n        \"description\": \"\"\n      }\n    },\n    {\n      \"column\": \"Price Sentiment\",\n      \"properties\": {\n        \"dtype\": \"category\",\n        \"num_unique_values\": 4,\n        \"samples\": [\n          4,\n          \"4412\",\n          \"10570\"\n        ],\n        \"semantic_type\": \"\",\n        \"description\": \"\"\n      }\n    }\n  ]\n}"
            }
          },
          "metadata": {},
          "execution_count": 16
        }
      ]
    },
    {
      "cell_type": "code",
      "source": [
        "plt.figure(figsize=(10,5))\n",
        "plt.xlim(0,4000)\n",
        "plt.ylim(0,4000)\n",
        "\n",
        "sns.countplot(df['Price Sentiment'])\n",
        "df['Price Sentiment'].value_counts()"
      ],
      "metadata": {
        "colab": {
          "base_uri": "https://localhost:8080/",
          "height": 569
        },
        "id": "MKD4jMNF8Zay",
        "outputId": "9b4968cc-e0b4-42bb-97d7-c1274a724084"
      },
      "execution_count": 17,
      "outputs": [
        {
          "output_type": "execute_result",
          "data": {
            "text/plain": [
              "Price Sentiment\n",
              "positive    4412\n",
              "negative    3814\n",
              "none        1968\n",
              "neutral      376\n",
              "Name: count, dtype: int64"
            ]
          },
          "metadata": {},
          "execution_count": 17
        },
        {
          "output_type": "display_data",
          "data": {
            "text/plain": [
              "<Figure size 1000x500 with 1 Axes>"
            ],
            "image/png": "[encoded data removed]"
          },
          "metadata": {}
        }
      ]
    },
    {
      "cell_type": "code",
      "source": [
        "plt.figure(figsize=(10,5))\n",
        "plt.subplot(131)\n",
        "sns.countplot(x='Price Sentiment',hue='Price Direction Up',data=df)\n",
        "plt.subplot(132)\n",
        "sns.countplot(x='Price Sentiment',hue='Past Information',data=df)"
      ],
      "metadata": {
        "colab": {
          "base_uri": "https://localhost:8080/",
          "height": 482
        },
        "id": "-LSsKumpyhtB",
        "outputId": "5bd58ec3-ce80-4dfd-a8d1-af805d226909"
      },
      "execution_count": 20,
      "outputs": [
        {
          "output_type": "execute_result",
          "data": {
            "text/plain": [
              "<Axes: xlabel='Price Sentiment', ylabel='count'>"
            ]
          },
          "metadata": {},
          "execution_count": 20
        },
        {
          "output_type": "display_data",
          "data": {
            "text/plain": [
              "<Figure size 1000x500 with 2 Axes>"
            ],
            "image/png": "[encoded data removed]"
          },
          "metadata": {}
        }
      ]
    },
    {
      "cell_type": "code",
      "source": [
        "sns.pairplot(df,hue='Price Sentiment')"
      ],
      "metadata": {
        "colab": {
          "base_uri": "https://localhost:8080/",
          "height": 1000
        },
        "id": "89REgvibztoS",
        "outputId": "9cad5ae5-2f89-431a-a783-b25c795e0924"
      },
      "execution_count": 21,
      "outputs": [
        {
          "output_type": "execute_result",
          "data": {
            "text/plain": [
              "<seaborn.axisgrid.PairGrid at 0x7e5599571150>"
            ]
          },
          "metadata": {},
          "execution_count": 21
        },
        {
          "output_type": "display_data",
          "data": {
            "text/plain": [
              "<Figure size 1620.99x1500 with 42 Axes>"
            ],
            "image/png": "[encoded data removed]"
          },
          "metadata": {}
        }
      ]
    },
    {
      "cell_type": "code",
      "source": [
        "def text_clean_1(text):\n",
        "  text=text.lower()\n",
        "  text=re.sub('\\[.*?\\]', '',text)\n",
        "  text=re.sub('[%s]' % re.escape(string.punctuation), '',text)\n",
        "  text=re.sub('\\w*\\d\\w','',text)\n",
        "  text=re.sub('[‘’“”…]', '', text)\n",
        "  text=re.sub('\\n','',text)\n",
        "  return text\n",
        "\n",
        "Cleaned_News= lambda x: text_clean_1(x)\n",
        "\n",
        ""
      ],
      "metadata": {
        "id": "MQwpvjBd1JoK"
      },
      "execution_count": 23,
      "outputs": []
    },
    {
      "cell_type": "code",
      "source": [
        "df['Cleaned_News']=pd.DataFrame(df.News.apply(Cleaned_News))\n",
        "df.head(10)"
      ],
      "metadata": {
        "colab": {
          "base_uri": "https://localhost:8080/",
          "height": 762
        },
        "id": "hJRte8FF4q9V",
        "outputId": "964d8fee-327c-4d6f-bf29-c7c0bc012b98"
      },
      "execution_count": 29,
      "outputs": [
        {
          "output_type": "execute_result",
          "data": {
            "text/plain": [
              "        Dates                                                URL  \\\n",
              "0  28-01-2016  http://www.marketwatch.com/story/april-gold-do...   \n",
              "1  13-09-2017  http://www.marketwatch.com/story/gold-prices-s...   \n",
              "2  26-07-2016  http://www.marketwatch.com/story/gold-futures-...   \n",
              "3  28-02-2018  https://www.metalsdaily.com/link/277199/dent-r...   \n",
              "4  06-09-2017  http://www.marketwatch.com/story/gold-steadies...   \n",
              "5  16-08-2016  http://www.marketwatch.com/story/dec-gold-clim...   \n",
              "6  24-09-2013  https://economictimes.indiatimes.com/markets/c...   \n",
              "7  23-09-2016  http://www.marketwatch.com/story/gold-futures-...   \n",
              "8  21-10-2012  https://www.thehindubusinessline.com/opinion/c...   \n",
              "9  16-03-2018  http://www.marketwatch.com/story/april-gold-ho...   \n",
              "\n",
              "                                                News  Price Direction Up  \\\n",
              "0  april gold down 20 cents to settle at $1,116.1...                   0   \n",
              "1          gold suffers third straight daily decline                   0   \n",
              "2     Gold futures edge up after two-session decline                   1   \n",
              "3  dent research : is gold's day in the sun comin...                   0   \n",
              "4  Gold snaps three-day rally as Trump, lawmakers...                   0   \n",
              "5  Dec. gold climbs $9.40, or 0.7%, to settle at ...                   1   \n",
              "6  gold falls by rs 25 on sluggish demand, global...                   0   \n",
              "7  Gold futures fall for the session, but gain fo...                   1   \n",
              "8  Gold struggles; silver slides, base metals falter                   0   \n",
              "9  april gold holds slight gain, up $2.50, or 0.2...                   1   \n",
              "\n",
              "   Price Direction Constant  Price Direction Down  Asset Comparision  \\\n",
              "0                         0                     1                  0   \n",
              "1                         0                     1                  0   \n",
              "2                         0                     0                  0   \n",
              "3                         0                     0                  0   \n",
              "4                         0                     1                  0   \n",
              "5                         0                     0                  0   \n",
              "6                         0                     1                  0   \n",
              "7                         0                     1                  0   \n",
              "8                         1                     0                  1   \n",
              "9                         0                     0                  0   \n",
              "\n",
              "   Past Information  Future Information Price Sentiment  \\\n",
              "0                 1                   0        negative   \n",
              "1                 1                   0        negative   \n",
              "2                 1                   0        positive   \n",
              "3                 0                   1            none   \n",
              "4                 1                   0        negative   \n",
              "5                 1                   0        positive   \n",
              "6                 1                   0        negative   \n",
              "7                 1                   0        positive   \n",
              "8                 1                   0         neutral   \n",
              "9                 1                   0        positive   \n",
              "\n",
              "                                        Cleaned_News  \n",
              "0              april gold down  cents to settle at z  \n",
              "1          gold suffers third straight daily decline  \n",
              "2      gold futures edge up after twosession decline  \n",
              "3  dent research  is golds day in the sun coming ...  \n",
              "4  gold snaps threeday rally as trump lawmakers r...  \n",
              "5                dec gold climbs  or  to settle at z  \n",
              "6   gold falls by rs  on sluggish demand global cues  \n",
              "7  gold futures fall for the session but gain for...  \n",
              "8    gold struggles silver slides base metals falter  \n",
              "9          april gold holds slight gain up  or  at z  "
            ],
            "text/html": [
              "\n",
              "  <div id=\"df-aa4f521f-2596-4ade-b277-d90cea4d6641\" class=\"colab-df-container\">\n",
              "    <div>\n",
              "<style scoped>\n",
              "    .dataframe tbody tr th:only-of-type {\n",
              "        vertical-align: middle;\n",
              "    }\n",
              "\n",
              "    .dataframe tbody tr th {\n",
              "        vertical-align: top;\n",
              "    }\n",
              "\n",
              "    .dataframe thead th {\n",
              "        text-align: right;\n",
              "    }\n",
              "</style>\n",
              "<table border=\"1\" class=\"dataframe\">\n",
              "  <thead>\n",
              "    <tr style=\"text-align: right;\">\n",
              "      <th></th>\n",
              "      <th>Dates</th>\n",
              "      <th>URL</th>\n",
              "      <th>News</th>\n",
              "      <th>Price Direction Up</th>\n",
              "      <th>Price Direction Constant</th>\n",
              "      <th>Price Direction Down</th>\n",
              "      <th>Asset Comparision</th>\n",
              "      <th>Past Information</th>\n",
              "      <th>Future Information</th>\n",
              "      <th>Price Sentiment</th>\n",
              "      <th>Cleaned_News</th>\n",
              "    </tr>\n",
              "  </thead>\n",
              "  <tbody>\n",
              "    <tr>\n",
              "      <th>0</th>\n",
              "      <td>28-01-2016</td>\n",
              "      <td>http://www.marketwatch.com/story/april-gold-do...</td>\n",
              "      <td>april gold down 20 cents to settle at $1,116.1...</td>\n",
              "      <td>0</td>\n",
              "      <td>0</td>\n",
              "      <td>1</td>\n",
              "      <td>0</td>\n",
              "      <td>1</td>\n",
              "      <td>0</td>\n",
              "      <td>negative</td>\n",
              "      <td>april gold down  cents to settle at z</td>\n",
              "    </tr>\n",
              "    <tr>\n",
              "      <th>1</th>\n",
              "      <td>13-09-2017</td>\n",
              "      <td>http://www.marketwatch.com/story/gold-prices-s...</td>\n",
              "      <td>gold suffers third straight daily decline</td>\n",
              "      <td>0</td>\n",
              "      <td>0</td>\n",
              "      <td>1</td>\n",
              "      <td>0</td>\n",
              "      <td>1</td>\n",
              "      <td>0</td>\n",
              "      <td>negative</td>\n",
              "      <td>gold suffers third straight daily decline</td>\n",
              "    </tr>\n",
              "    <tr>\n",
              "      <th>2</th>\n",
              "      <td>26-07-2016</td>\n",
              "      <td>http://www.marketwatch.com/story/gold-futures-...</td>\n",
              "      <td>Gold futures edge up after two-session decline</td>\n",
              "      <td>1</td>\n",
              "      <td>0</td>\n",
              "      <td>0</td>\n",
              "      <td>0</td>\n",
              "      <td>1</td>\n",
              "      <td>0</td>\n",
              "      <td>positive</td>\n",
              "      <td>gold futures edge up after twosession decline</td>\n",
              "    </tr>\n",
              "    <tr>\n",
              "      <th>3</th>\n",
              "      <td>28-02-2018</td>\n",
              "      <td>https://www.metalsdaily.com/link/277199/dent-r...</td>\n",
              "      <td>dent research : is gold's day in the sun comin...</td>\n",
              "      <td>0</td>\n",
              "      <td>0</td>\n",
              "      <td>0</td>\n",
              "      <td>0</td>\n",
              "      <td>0</td>\n",
              "      <td>1</td>\n",
              "      <td>none</td>\n",
              "      <td>dent research  is golds day in the sun coming ...</td>\n",
              "    </tr>\n",
              "    <tr>\n",
              "      <th>4</th>\n",
              "      <td>06-09-2017</td>\n",
              "      <td>http://www.marketwatch.com/story/gold-steadies...</td>\n",
              "      <td>Gold snaps three-day rally as Trump, lawmakers...</td>\n",
              "      <td>0</td>\n",
              "      <td>0</td>\n",
              "      <td>1</td>\n",
              "      <td>0</td>\n",
              "      <td>1</td>\n",
              "      <td>0</td>\n",
              "      <td>negative</td>\n",
              "      <td>gold snaps threeday rally as trump lawmakers r...</td>\n",
              "    </tr>\n",
              "    <tr>\n",
              "      <th>5</th>\n",
              "      <td>16-08-2016</td>\n",
              "      <td>http://www.marketwatch.com/story/dec-gold-clim...</td>\n",
              "      <td>Dec. gold climbs $9.40, or 0.7%, to settle at ...</td>\n",
              "      <td>1</td>\n",
              "      <td>0</td>\n",
              "      <td>0</td>\n",
              "      <td>0</td>\n",
              "      <td>1</td>\n",
              "      <td>0</td>\n",
              "      <td>positive</td>\n",
              "      <td>dec gold climbs  or  to settle at z</td>\n",
              "    </tr>\n",
              "    <tr>\n",
              "      <th>6</th>\n",
              "      <td>24-09-2013</td>\n",
              "      <td>https://economictimes.indiatimes.com/markets/c...</td>\n",
              "      <td>gold falls by rs 25 on sluggish demand, global...</td>\n",
              "      <td>0</td>\n",
              "      <td>0</td>\n",
              "      <td>1</td>\n",
              "      <td>0</td>\n",
              "      <td>1</td>\n",
              "      <td>0</td>\n",
              "      <td>negative</td>\n",
              "      <td>gold falls by rs  on sluggish demand global cues</td>\n",
              "    </tr>\n",
              "    <tr>\n",
              "      <th>7</th>\n",
              "      <td>23-09-2016</td>\n",
              "      <td>http://www.marketwatch.com/story/gold-futures-...</td>\n",
              "      <td>Gold futures fall for the session, but gain fo...</td>\n",
              "      <td>1</td>\n",
              "      <td>0</td>\n",
              "      <td>1</td>\n",
              "      <td>0</td>\n",
              "      <td>1</td>\n",
              "      <td>0</td>\n",
              "      <td>positive</td>\n",
              "      <td>gold futures fall for the session but gain for...</td>\n",
              "    </tr>\n",
              "    <tr>\n",
              "      <th>8</th>\n",
              "      <td>21-10-2012</td>\n",
              "      <td>https://www.thehindubusinessline.com/opinion/c...</td>\n",
              "      <td>Gold struggles; silver slides, base metals falter</td>\n",
              "      <td>0</td>\n",
              "      <td>1</td>\n",
              "      <td>0</td>\n",
              "      <td>1</td>\n",
              "      <td>1</td>\n",
              "      <td>0</td>\n",
              "      <td>neutral</td>\n",
              "      <td>gold struggles silver slides base metals falter</td>\n",
              "    </tr>\n",
              "    <tr>\n",
              "      <th>9</th>\n",
              "      <td>16-03-2018</td>\n",
              "      <td>http://www.marketwatch.com/story/april-gold-ho...</td>\n",
              "      <td>april gold holds slight gain, up $2.50, or 0.2...</td>\n",
              "      <td>1</td>\n",
              "      <td>0</td>\n",
              "      <td>0</td>\n",
              "      <td>0</td>\n",
              "      <td>1</td>\n",
              "      <td>0</td>\n",
              "      <td>positive</td>\n",
              "      <td>april gold holds slight gain up  or  at z</td>\n",
              "    </tr>\n",
              "  </tbody>\n",
              "</table>\n",
              "</div>\n",
              "    <div class=\"colab-df-buttons\">\n",
              "\n",
              "  <div class=\"colab-df-container\">\n",
              "    <button class=\"colab-df-convert\" onclick=\"convertToInteractive('df-aa4f521f-2596-4ade-b277-d90cea4d6641')\"\n",
              "            title=\"Convert this dataframe to an interactive table.\"\n",
              "            style=\"display:none;\">\n",
              "\n",
              "  <svg xmlns=\"http://www.w3.org/2000/svg\" height=\"24px\" viewBox=\"0 -960 960 960\">\n",
              "    <path d=\"M120-120v-720h720v720H120Zm60-500h600v-160H180v160Zm220 220h160v-160H400v160Zm0 220h160v-160H400v160ZM180-400h160v-160H180v160Zm440 0h160v-160H620v160ZM180-180h160v-160H180v160Zm440 0h160v-160H620v160Z\"/>\n",
              "  </svg>\n",
              "    </button>\n",
              "\n",
              "  <style>\n",
              "    .colab-df-container {\n",
              "      display:flex;\n",
              "      gap: 12px;\n",
              "    }\n",
              "\n",
              "    .colab-df-convert {\n",
              "      background-color: #E8F0FE;\n",
              "      border: none;\n",
              "      border-radius: 50%;\n",
              "      cursor: pointer;\n",
              "      display: none;\n",
              "      fill: #1967D2;\n",
              "      height: 32px;\n",
              "      padding: 0 0 0 0;\n",
              "      width: 32px;\n",
              "    }\n",
              "\n",
              "    .colab-df-convert:hover {\n",
              "      background-color: #E2EBFA;\n",
              "      box-shadow: 0px 1px 2px rgba(60, 64, 67, 0.3), 0px 1px 3px 1px rgba(60, 64, 67, 0.15);\n",
              "      fill: #174EA6;\n",
              "    }\n",
              "\n",
              "    .colab-df-buttons div {\n",
              "      margin-bottom: 4px;\n",
              "    }\n",
              "\n",
              "    [theme=dark] .colab-df-convert {\n",
              "      background-color: #3B4455;\n",
              "      fill: #D2E3FC;\n",
              "    }\n",
              "\n",
              "    [theme=dark] .colab-df-convert:hover {\n",
              "      background-color: #434B5C;\n",
              "      box-shadow: 0px 1px 3px 1px rgba(0, 0, 0, 0.15);\n",
              "      filter: drop-shadow(0px 1px 2px rgba(0, 0, 0, 0.3));\n",
              "      fill: #FFFFFF;\n",
              "    }\n",
              "  </style>\n",
              "\n",
              "    <script>\n",
              "      const buttonEl =\n",
              "        document.querySelector('#df-aa4f521f-2596-4ade-b277-d90cea4d6641 button.colab-df-convert');\n",
              "      buttonEl.style.display =\n",
              "        google.colab.kernel.accessAllowed ? 'block' : 'none';\n",
              "\n",
              "      async function convertToInteractive(key) {\n",
              "        const element = document.querySelector('#df-aa4f521f-2596-4ade-b277-d90cea4d6641');\n",
              "        const dataTable =\n",
              "          await google.colab.kernel.invokeFunction('convertToInteractive',\n",
              "                                                    [key], {});\n",
              "        if (!dataTable) return;\n",
              "\n",
              "        const docLinkHtml = 'Like what you see? Visit the ' +\n",
              "          '<a target=\"_blank\" href=https://colab.research.google.com/notebooks/data_table.ipynb>data table notebook</a>'\n",
              "          + ' to learn more about interactive tables.';\n",
              "        element.innerHTML = '';\n",
              "        dataTable['output_type'] = 'display_data';\n",
              "        await google.colab.output.renderOutput(dataTable, element);\n",
              "        const docLink = document.createElement('div');\n",
              "        docLink.innerHTML = docLinkHtml;\n",
              "        element.appendChild(docLink);\n",
              "      }\n",
              "    </script>\n",
              "  </div>\n",
              "\n",
              "\n",
              "<div id=\"df-e1c837ab-4222-4e4a-95f6-718c0be0e7b9\">\n",
              "  <button class=\"colab-df-quickchart\" onclick=\"quickchart('df-e1c837ab-4222-4e4a-95f6-718c0be0e7b9')\"\n",
              "            title=\"Suggest charts\"\n",
              "            style=\"display:none;\">\n",
              "\n",
              "<svg xmlns=\"http://www.w3.org/2000/svg\" height=\"24px\"viewBox=\"0 0 24 24\"\n",
              "     width=\"24px\">\n",
              "    <g>\n",
              "        <path d=\"M19 3H5c-1.1 0-2 .9-2 2v14c0 1.1.9 2 2 2h14c1.1 0 2-.9 2-2V5c0-1.1-.9-2-2-2zM9 17H7v-7h2v7zm4 0h-2V7h2v10zm4 0h-2v-4h2v4z\"/>\n",
              "    </g>\n",
              "</svg>\n",
              "  </button>\n",
              "\n",
              "<style>\n",
              "  .colab-df-quickchart {\n",
              "      --bg-color: #E8F0FE;\n",
              "      --fill-color: #1967D2;\n",
              "      --hover-bg-color: #E2EBFA;\n",
              "      --hover-fill-color: #174EA6;\n",
              "      --disabled-fill-color: #AAA;\n",
              "      --disabled-bg-color: #DDD;\n",
              "  }\n",
              "\n",
              "  [theme=dark] .colab-df-quickchart {\n",
              "      --bg-color: #3B4455;\n",
              "      --fill-color: #D2E3FC;\n",
              "      --hover-bg-color: #434B5C;\n",
              "      --hover-fill-color: #FFFFFF;\n",
              "      --disabled-bg-color: #3B4455;\n",
              "      --disabled-fill-color: #666;\n",
              "  }\n",
              "\n",
              "  .colab-df-quickchart {\n",
              "    background-color: var(--bg-color);\n",
              "    border: none;\n",
              "    border-radius: 50%;\n",
              "    cursor: pointer;\n",
              "    display: none;\n",
              "    fill: var(--fill-color);\n",
              "    height: 32px;\n",
              "    padding: 0;\n",
              "    width: 32px;\n",
              "  }\n",
              "\n",
              "  .colab-df-quickchart:hover {\n",
              "    background-color: var(--hover-bg-color);\n",
              "    box-shadow: 0 1px 2px rgba(60, 64, 67, 0.3), 0 1px 3px 1px rgba(60, 64, 67, 0.15);\n",
              "    fill: var(--button-hover-fill-color);\n",
              "  }\n",
              "\n",
              "  .colab-df-quickchart-complete:disabled,\n",
              "  .colab-df-quickchart-complete:disabled:hover {\n",
              "    background-color: var(--disabled-bg-color);\n",
              "    fill: var(--disabled-fill-color);\n",
              "    box-shadow: none;\n",
              "  }\n",
              "\n",
              "  .colab-df-spinner {\n",
              "    border: 2px solid var(--fill-color);\n",
              "    border-color: transparent;\n",
              "    border-bottom-color: var(--fill-color);\n",
              "    animation:\n",
              "      spin 1s steps(1) infinite;\n",
              "  }\n",
              "\n",
              "  @keyframes spin {\n",
              "    0% {\n",
              "      border-color: transparent;\n",
              "      border-bottom-color: var(--fill-color);\n",
              "      border-left-color: var(--fill-color);\n",
              "    }\n",
              "    20% {\n",
              "      border-color: transparent;\n",
              "      border-left-color: var(--fill-color);\n",
              "      border-top-color: var(--fill-color);\n",
              "    }\n",
              "    30% {\n",
              "      border-color: transparent;\n",
              "      border-left-color: var(--fill-color);\n",
              "      border-top-color: var(--fill-color);\n",
              "      border-right-color: var(--fill-color);\n",
              "    }\n",
              "    40% {\n",
              "      border-color: transparent;\n",
              "      border-right-color: var(--fill-color);\n",
              "      border-top-color: var(--fill-color);\n",
              "    }\n",
              "    60% {\n",
              "      border-color: transparent;\n",
              "      border-right-color: var(--fill-color);\n",
              "    }\n",
              "    80% {\n",
              "      border-color: transparent;\n",
              "      border-right-color: var(--fill-color);\n",
              "      border-bottom-color: var(--fill-color);\n",
              "    }\n",
              "    90% {\n",
              "      border-color: transparent;\n",
              "      border-bottom-color: var(--fill-color);\n",
              "    }\n",
              "  }\n",
              "</style>\n",
              "\n",
              "  <script>\n",
              "    async function quickchart(key) {\n",
              "      const quickchartButtonEl =\n",
              "        document.querySelector('#' + key + ' button');\n",
              "      quickchartButtonEl.disabled = true;  // To prevent multiple clicks.\n",
              "      quickchartButtonEl.classList.add('colab-df-spinner');\n",
              "      try {\n",
              "        const charts = await google.colab.kernel.invokeFunction(\n",
              "            'suggestCharts', [key], {});\n",
              "      } catch (error) {\n",
              "        console.error('Error during call to suggestCharts:', error);\n",
              "      }\n",
              "      quickchartButtonEl.classList.remove('colab-df-spinner');\n",
              "      quickchartButtonEl.classList.add('colab-df-quickchart-complete');\n",
              "    }\n",
              "    (() => {\n",
              "      let quickchartButtonEl =\n",
              "        document.querySelector('#df-e1c837ab-4222-4e4a-95f6-718c0be0e7b9 button');\n",
              "      quickchartButtonEl.style.display =\n",
              "        google.colab.kernel.accessAllowed ? 'block' : 'none';\n",
              "    })();\n",
              "  </script>\n",
              "</div>\n",
              "\n",
              "    </div>\n",
              "  </div>\n"
            ],
            "application/vnd.google.colaboratory.intrinsic+json": {
              "type": "dataframe",
              "variable_name": "df",
              "summary": "{\n  \"name\": \"df\",\n  \"rows\": 10570,\n  \"fields\": [\n    {\n      \"column\": \"Dates\",\n      \"properties\": {\n        \"dtype\": \"category\",\n        \"num_unique_values\": 3761,\n        \"samples\": [\n          \"27-09-2007\",\n          \"16-04-2012\",\n          \"29-05-2008\"\n        ],\n        \"semantic_type\": \"\",\n        \"description\": \"\"\n      }\n    },\n    {\n      \"column\": \"URL\",\n      \"properties\": {\n        \"dtype\": \"string\",\n        \"num_unique_values\": 10570,\n        \"samples\": [\n          \"http://www.marketwatch.com/story/gold-futures-close-almost-6-lower-silver-dulls-on-etf-clearance-2006-04-27\",\n          \"https://www.thehindubusinessline.com/markets/gold/gold-hits-highest-in-over-six-weeks-as-us-jobs-data-disappoints/article9720128.ece\",\n          \"https://economictimes.indiatimes.com/markets/commodities/news/gold-rate-today-track-gold-price-per-gram/articleshow/60837605.cms\"\n        ],\n        \"semantic_type\": \"\",\n        \"description\": \"\"\n      }\n    },\n    {\n      \"column\": \"News\",\n      \"properties\": {\n        \"dtype\": \"string\",\n        \"num_unique_values\": 10570,\n        \"samples\": [\n          \"gold falls from a 25-year high; silver dulls\",\n          \"Gold hits highest in over six weeks as US jobs data disappoints\",\n          \"gold rate today: track gold price per gram\"\n        ],\n        \"semantic_type\": \"\",\n        \"description\": \"\"\n      }\n    },\n    {\n      \"column\": \"Price Direction Up\",\n      \"properties\": {\n        \"dtype\": \"number\",\n        \"std\": 0,\n        \"min\": 0,\n        \"max\": 1,\n        \"num_unique_values\": 2,\n        \"samples\": [\n          1,\n          0\n        ],\n        \"semantic_type\": \"\",\n        \"description\": \"\"\n      }\n    },\n    {\n      \"column\": \"Price Direction Constant\",\n      \"properties\": {\n        \"dtype\": \"number\",\n        \"std\": 0,\n        \"min\": 0,\n        \"max\": 1,\n        \"num_unique_values\": 2,\n        \"samples\": [\n          1,\n          0\n        ],\n        \"semantic_type\": \"\",\n        \"description\": \"\"\n      }\n    },\n    {\n      \"column\": \"Price Direction Down\",\n      \"properties\": {\n        \"dtype\": \"number\",\n        \"std\": 0,\n        \"min\": 0,\n        \"max\": 1,\n        \"num_unique_values\": 2,\n        \"samples\": [\n          0,\n          1\n        ],\n        \"semantic_type\": \"\",\n        \"description\": \"\"\n      }\n    },\n    {\n      \"column\": \"Asset Comparision\",\n      \"properties\": {\n        \"dtype\": \"number\",\n        \"std\": 0,\n        \"min\": 0,\n        \"max\": 1,\n        \"num_unique_values\": 2,\n        \"samples\": [\n          1,\n          0\n        ],\n        \"semantic_type\": \"\",\n        \"description\": \"\"\n      }\n    },\n    {\n      \"column\": \"Past Information\",\n      \"properties\": {\n        \"dtype\": \"number\",\n        \"std\": 0,\n        \"min\": 0,\n        \"max\": 1,\n        \"num_unique_values\": 2,\n        \"samples\": [\n          0,\n          1\n        ],\n        \"semantic_type\": \"\",\n        \"description\": \"\"\n      }\n    },\n    {\n      \"column\": \"Future Information\",\n      \"properties\": {\n        \"dtype\": \"number\",\n        \"std\": 0,\n        \"min\": 0,\n        \"max\": 1,\n        \"num_unique_values\": 2,\n        \"samples\": [\n          1,\n          0\n        ],\n        \"semantic_type\": \"\",\n        \"description\": \"\"\n      }\n    },\n    {\n      \"column\": \"Price Sentiment\",\n      \"properties\": {\n        \"dtype\": \"category\",\n        \"num_unique_values\": 4,\n        \"samples\": [\n          \"positive\",\n          \"neutral\"\n        ],\n        \"semantic_type\": \"\",\n        \"description\": \"\"\n      }\n    },\n    {\n      \"column\": \"Cleaned_News\",\n      \"properties\": {\n        \"dtype\": \"string\",\n        \"num_unique_values\": 9580,\n        \"samples\": [\n          \"gold silver poised higher base metals may correct slightly\",\n          \"mcx gold april contract slips \"\n        ],\n        \"semantic_type\": \"\",\n        \"description\": \"\"\n      }\n    }\n  ]\n}"
            }
          },
          "metadata": {},
          "execution_count": 29
        }
      ]
    },
    {
      "cell_type": "code",
      "source": [
        "from sklearn.model_selection import train_test_split\n",
        "x=df['Cleaned_News']\n",
        "y=df['Price Sentiment']\n",
        "x_train,x_test,y_train,y_test=train_test_split(x,y,test_size=0.2,random_state=0)\n",
        "print(\"x_train:\",len(x_train))\n",
        "print(\"x_test:\",len(x_test))\n",
        "print(\"y_train:\",len(y_train))\n",
        "print(\"y_test:\",len(y_test))\n"
      ],
      "metadata": {
        "colab": {
          "base_uri": "https://localhost:8080/"
        },
        "id": "2LLZFAJB8Aph",
        "outputId": "134c11cf-7698-4adc-e791-5fb77ec9aff6"
      },
      "execution_count": 30,
      "outputs": [
        {
          "output_type": "stream",
          "name": "stdout",
          "text": [
            "x_train: 8456\n",
            "x_test: 2114\n",
            "y_train: 8456\n",
            "y_test: 2114\n"
          ]
        }
      ]
    },
    {
      "cell_type": "code",
      "source": [
        "from sklearn.feature_extraction.text import TfidfVectorizer\n",
        "from sklearn.linear_model import LogisticRegression\n",
        "tvec=TfidfVectorizer()\n",
        "clf2=LogisticRegression()\n"
      ],
      "metadata": {
        "id": "0EvKX1RkYvjc"
      },
      "execution_count": 32,
      "outputs": []
    },
    {
      "cell_type": "code",
      "source": [
        "from sklearn.pipeline import Pipeline\n",
        "model=Pipeline([('vectorizer',tvec),('classifier',clf2)])\n",
        "model.fit(x_train,y_train)\n",
        "from sklearn.metrics import confusion_matrix\n",
        "predictions=model.predict(x_test)\n",
        "pred_train=model.predict(x_train)\n",
        "confusion_matrix(predictions,y_test)"
      ],
      "metadata": {
        "colab": {
          "base_uri": "https://localhost:8080/"
        },
        "id": "Bt9kmyy3ljY6",
        "outputId": "3b1bb305-13e5-4e10-d0d3-65f15e2d3e26"
      },
      "execution_count": 33,
      "outputs": [
        {
          "output_type": "stream",
          "name": "stderr",
          "text": [
            "/usr/local/lib/python3.10/dist-packages/sklearn/linear_model/_logistic.py:458: ConvergenceWarning: lbfgs failed to converge (status=1):\n",
            "STOP: TOTAL NO. of ITERATIONS REACHED LIMIT.\n",
            "\n",
            "Increase the number of iterations (max_iter) or scale the data as shown in:\n",
            "    https://scikit-learn.org/stable/modules/preprocessing.html\n",
            "Please also refer to the documentation for alternative solver options:\n",
            "    https://scikit-learn.org/stable/modules/linear_model.html#logistic-regression\n",
            "  n_iter_i = _check_optimize_result(\n"
          ]
        },
        {
          "output_type": "execute_result",
          "data": {
            "text/plain": [
              "array([[702,  15,  26,  32],\n",
              "       [  1,  50,   1,   2],\n",
              "       [ 31,   9, 331,  48],\n",
              "       [ 35,  15,  33, 783]])"
            ]
          },
          "metadata": {},
          "execution_count": 33
        }
      ]
    },
    {
      "cell_type": "code",
      "source": [
        "from sklearn.feature_extraction.text import TfidfVectorizer\n",
        "from sklearn.svm import SVC\n",
        "svm=SVC(kernel='linear')\n",
        "tvec=TfidfVectorizer()"
      ],
      "metadata": {
        "id": "5UJhmXYimoa4"
      },
      "execution_count": 37,
      "outputs": []
    },
    {
      "cell_type": "code",
      "source": [
        "model2=Pipeline([('vectorizer',tvec),('classifier',svm)])\n",
        "model2.fit(x_train,y_train)\n",
        "from sklearn.metrics import confusion_matrix\n",
        "predictions2=model.predict(x_test)\n",
        "pred2_train=model.predict(x_train)\n",
        "confusion_matrix(predictions2,y_test)"
      ],
      "metadata": {
        "colab": {
          "base_uri": "https://localhost:8080/"
        },
        "id": "YEXqPHmdpg7P",
        "outputId": "33dc7fbe-fcb3-408c-c5c2-2b4f1dded8d4"
      },
      "execution_count": 36,
      "outputs": [
        {
          "output_type": "execute_result",
          "data": {
            "text/plain": [
              "array([[702,  15,  26,  32],\n",
              "       [  1,  50,   1,   2],\n",
              "       [ 31,   9, 331,  48],\n",
              "       [ 35,  15,  33, 783]])"
            ]
          },
          "metadata": {},
          "execution_count": 36
        }
      ]
    },
    {
      "cell_type": "code",
      "source": [
        "example=[\"gold to trade in 28670-29610 range: achiievers equities\"]\n",
        "result=model.predict(example)\n",
        "print(result)"
      ],
      "metadata": {
        "colab": {
          "base_uri": "https://localhost:8080/"
        },
        "id": "UhKxs-JKprwO",
        "outputId": "f716aeda-123d-4ac5-c1a8-0a0a1f3d7bb8"
      },
      "execution_count": 39,
      "outputs": [
        {
          "output_type": "stream",
          "name": "stdout",
          "text": [
            "['neutral']\n"
          ]
        }
      ]
    },
    {
      "cell_type": "code",
      "source": [
        "example=[\"can investment in gold,sensex & ppfs give the same returns?\"]\n",
        "result=model.predict(example)\n",
        "print(result)"
      ],
      "metadata": {
        "colab": {
          "base_uri": "https://localhost:8080/"
        },
        "id": "N5paLv67r4kL",
        "outputId": "20039d35-c9af-4caa-ec3d-4cd6c6dc17ff"
      },
      "execution_count": 40,
      "outputs": [
        {
          "output_type": "stream",
          "name": "stdout",
          "text": [
            "['none']\n"
          ]
        }
      ]
    },
    {
      "cell_type": "code",
      "source": [
        "from sklearn.metrics import classification_report\n",
        "print(classification_report(y_test,predictions))"
      ],
      "metadata": {
        "colab": {
          "base_uri": "https://localhost:8080/"
        },
        "id": "IECXzbqsshL3",
        "outputId": "68664544-53b4-42ba-a93e-354d948d77a5"
      },
      "execution_count": 41,
      "outputs": [
        {
          "output_type": "stream",
          "name": "stdout",
          "text": [
            "              precision    recall  f1-score   support\n",
            "\n",
            "    negative       0.91      0.91      0.91       769\n",
            "     neutral       0.93      0.56      0.70        89\n",
            "        none       0.79      0.85      0.82       391\n",
            "    positive       0.90      0.91      0.90       865\n",
            "\n",
            "    accuracy                           0.88      2114\n",
            "   macro avg       0.88      0.81      0.83      2114\n",
            "weighted avg       0.88      0.88      0.88      2114\n",
            "\n"
          ]
        }
      ]
    },
    {
      "cell_type": "code",
      "source": [
        "from sklearn.metrics import classification_report\n",
        "print(classification_report(y_test,predictions2))"
      ],
      "metadata": {
        "colab": {
          "base_uri": "https://localhost:8080/"
        },
        "id": "zId6rWMM4kvf",
        "outputId": "07e34b89-b36d-4c00-d00d-a634cc75c4ef"
      },
      "execution_count": 42,
      "outputs": [
        {
          "output_type": "stream",
          "name": "stdout",
          "text": [
            "              precision    recall  f1-score   support\n",
            "\n",
            "    negative       0.91      0.91      0.91       769\n",
            "     neutral       0.93      0.56      0.70        89\n",
            "        none       0.79      0.85      0.82       391\n",
            "    positive       0.90      0.91      0.90       865\n",
            "\n",
            "    accuracy                           0.88      2114\n",
            "   macro avg       0.88      0.81      0.83      2114\n",
            "weighted avg       0.88      0.88      0.88      2114\n",
            "\n"
          ]
        }
      ]
    },
    {
      "cell_type": "code",
      "source": [
        "from sklearn.metrics import accuracy_score\n",
        "print(\"Accuracy_test:\",accuracy_score(predictions,y_test))\n",
        "print(\"Accuracy_train:\",accuracy_score(pred_train,y_train))"
      ],
      "metadata": {
        "colab": {
          "base_uri": "https://localhost:8080/"
        },
        "id": "1bEcIXAR458L",
        "outputId": "231aa1fa-911b-466a-9caf-42e6a98ab6ee"
      },
      "execution_count": 43,
      "outputs": [
        {
          "output_type": "stream",
          "name": "stdout",
          "text": [
            "Accuracy_test: 0.8826868495742668\n",
            "Accuracy_train: 0.9331835383159887\n"
          ]
        }
      ]
    },
    {
      "cell_type": "code",
      "source": [
        "from sklearn.metrics import accuracy_score\n",
        "print(\"Accuracy_test:\",accuracy_score(predictions2,y_test))\n",
        "print(\"Accuracy_train:\",accuracy_score(pred2_train,y_train))"
      ],
      "metadata": {
        "colab": {
          "base_uri": "https://localhost:8080/"
        },
        "id": "khhhC7Vc9ibj",
        "outputId": "5c3c9a3a-bb70-42da-ee80-e09d0c9b7b7c"
      },
      "execution_count": 45,
      "outputs": [
        {
          "output_type": "stream",
          "name": "stdout",
          "text": [
            "Accuracy_test: 0.8826868495742668\n",
            "Accuracy_train: 0.9331835383159887\n"
          ]
        }
      ]
    },
    {
      "cell_type": "code",
      "source": [],
      "metadata": {
        "id": "yuJAYFm-_faq"
      },
      "execution_count": null,
      "outputs": []
    }
  ]
}